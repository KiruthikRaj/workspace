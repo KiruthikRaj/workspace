{
 "cells": [
  {
   "cell_type": "code",
   "execution_count": 1,
   "id": "5a20165b",
   "metadata": {},
   "outputs": [
    {
     "name": "stdout",
     "output_type": "stream",
     "text": [
      "mu=2000\n",
      "sigma=200\n",
      "cdf1 vale=1800\n",
      "cdf2 value=2000\n",
      "0.34134474606854287\n"
     ]
    }
   ],
   "source": [
    "from statistics import NormalDist\n",
    "mu=int(input(\"mu=\"))\n",
    "sigma=int(input(\"sigma=\"))\n",
    "cdf1=int(input(\"cdf1 vale=\"))\n",
    "cdf2=int(input(\"cdf2 value=\"))\n",
    "if(cdf1==0 or cdf2==0): \n",
    "    print(\"0\")\n",
    "else:\n",
    "    nd=NormalDist(mu,sigma)\n",
    "    nd.cdf(cdf1)     \n",
    "    nd.cdf(cdf2)\n",
    "    nd=nd.cdf(cdf2)-nd.cdf(cdf1)\n",
    "    print(nd)"
   ]
  },
  {
   "cell_type": "code",
   "execution_count": null,
   "id": "e94ef9d1",
   "metadata": {},
   "outputs": [],
   "source": []
  }
 ],
 "metadata": {
  "kernelspec": {
   "display_name": "Python 3 (ipykernel)",
   "language": "python",
   "name": "python3"
  },
  "language_info": {
   "codemirror_mode": {
    "name": "ipython",
    "version": 3
   },
   "file_extension": ".py",
   "mimetype": "text/x-python",
   "name": "python",
   "nbconvert_exporter": "python",
   "pygments_lexer": "ipython3",
   "version": "3.9.7"
  }
 },
 "nbformat": 4,
 "nbformat_minor": 5
}
